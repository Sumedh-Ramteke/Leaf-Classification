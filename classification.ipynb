{
 "cells": [
  {
   "cell_type": "code",
   "execution_count": 1,
   "metadata": {},
   "outputs": [],
   "source": [
    "import pandas as pd\n",
    "from sklearn.svm import SVC\n",
    "from sklearn.neighbors import KNeighborsClassifier\n",
    "from sklearn.ensemble import RandomForestClassifier\n",
    "from sklearn.metrics import confusion_matrix, classification_report\n",
    "from sklearn.model_selection import GridSearchCV\n",
    "from sklearn.preprocessing import StandardScaler\n",
    "import numpy as np"
   ]
  },
  {
   "cell_type": "code",
   "execution_count": 2,
   "metadata": {},
   "outputs": [],
   "source": [
    "train_df = pd.read_csv('generated_features_train.csv')\n",
    "valid_df = pd.read_csv('generated_features_valid.csv')\n",
    "test_df = pd.read_csv('generated_features_test.csv')"
   ]
  },
  {
   "cell_type": "code",
   "execution_count": 3,
   "metadata": {},
   "outputs": [],
   "source": [
    "X_train, y_train = train_df.drop(columns=['Image', 'Class']), train_df['Class']\n",
    "X_valid, y_valid = valid_df.drop(columns=['Image', 'Class']), valid_df['Class']\n",
    "X_test, y_test = test_df.drop(columns=['Image', 'Class']), test_df['Class']"
   ]
  },
  {
   "cell_type": "code",
   "execution_count": 4,
   "metadata": {},
   "outputs": [],
   "source": [
    "scaler = StandardScaler()\n",
    "X_train = scaler.fit_transform(X_train)\n",
    "X_valid = scaler.transform(X_valid)\n",
    "X_test = scaler.transform(X_test)"
   ]
  },
  {
   "cell_type": "code",
   "execution_count": 5,
   "metadata": {},
   "outputs": [],
   "source": [
    "results = {}"
   ]
  },
  {
   "cell_type": "markdown",
   "metadata": {},
   "source": [
    "Given a model it will evaluate with the help of the earlier dataset"
   ]
  },
  {
   "cell_type": "code",
   "execution_count": 6,
   "metadata": {},
   "outputs": [],
   "source": [
    "def evaluate_model(name, model, X_train, y_train, X_valid, y_valid, X_test, y_test):\n",
    "    print(f\"\\nTraining {name} model...\")\n",
    "    model.fit(X_train, y_train)\n",
    "\n",
    "    y_valid_pred = model.predict(X_valid)\n",
    "    print(f\"\\nValidation Performance of {name}:\")\n",
    "    print(confusion_matrix(y_valid, y_valid_pred))\n",
    "    print(classification_report(y_valid, y_valid_pred))\n",
    "\n",
    "    y_test_pred = model.predict(X_test)\n",
    "    print(f\"\\nTest Performance of {name}:\")\n",
    "    print(confusion_matrix(y_test, y_test_pred))\n",
    "    print(classification_report(y_test, y_test_pred))"
   ]
  },
  {
   "cell_type": "markdown",
   "metadata": {},
   "source": [
    "### 1. Support Vector Machine"
   ]
  },
  {
   "cell_type": "code",
   "execution_count": 7,
   "metadata": {},
   "outputs": [
    {
     "name": "stdout",
     "output_type": "stream",
     "text": [
      "\n",
      "Training SVM model...\n",
      "\n",
      "Validation Performance of SVM:\n",
      "[[2 0 0 0 0 1 0 0 0 1]\n",
      " [0 5 0 1 0 2 1 0 0 0]\n",
      " [0 0 3 0 0 0 0 0 0 1]\n",
      " [0 0 0 3 0 0 0 0 0 0]\n",
      " [0 1 0 1 3 0 0 0 0 0]\n",
      " [0 0 0 0 0 2 0 0 0 0]\n",
      " [1 0 0 0 0 1 2 1 0 0]\n",
      " [0 0 0 0 0 1 0 5 0 0]\n",
      " [0 1 1 2 0 0 0 0 2 0]\n",
      " [0 0 2 0 0 1 0 0 0 0]]\n",
      "              precision    recall  f1-score   support\n",
      "\n",
      "      Ajwain       0.67      0.50      0.57         4\n",
      "      Almond       0.71      0.56      0.62         9\n",
      "      Ashoka       0.50      0.75      0.60         4\n",
      "  Drum_Stick       0.43      1.00      0.60         3\n",
      "    Fittonia       1.00      0.60      0.75         5\n",
      "    Hibiscus       0.25      1.00      0.40         2\n",
      "  Jack Fruit       0.67      0.40      0.50         5\n",
      "       Mango       0.83      0.83      0.83         6\n",
      "        Neem       1.00      0.33      0.50         6\n",
      "     unknown       0.00      0.00      0.00         3\n",
      "\n",
      "    accuracy                           0.57        47\n",
      "   macro avg       0.61      0.60      0.54        47\n",
      "weighted avg       0.69      0.57      0.58        47\n",
      "\n",
      "\n",
      "Test Performance of SVM:\n",
      "[[2 0 0 0 0 1 0 0 0 1]\n",
      " [0 5 0 1 0 2 1 0 0 0]\n",
      " [0 0 3 0 0 0 0 0 0 1]\n",
      " [0 0 0 3 0 0 0 0 0 0]\n",
      " [0 1 0 1 3 0 0 0 0 0]\n",
      " [0 0 0 0 0 2 0 0 0 0]\n",
      " [1 0 0 0 0 1 2 1 0 0]\n",
      " [0 0 0 0 0 1 0 5 0 0]\n",
      " [0 1 1 2 0 0 0 0 2 0]\n",
      " [0 0 2 0 0 1 0 0 0 0]]\n",
      "              precision    recall  f1-score   support\n",
      "\n",
      "      Ajwain       0.67      0.50      0.57         4\n",
      "      Almond       0.71      0.56      0.62         9\n",
      "      Ashoka       0.50      0.75      0.60         4\n",
      "  Drum_Stick       0.43      1.00      0.60         3\n",
      "    Fittonia       1.00      0.60      0.75         5\n",
      "    Hibiscus       0.25      1.00      0.40         2\n",
      "  Jack Fruit       0.67      0.40      0.50         5\n",
      "       Mango       0.83      0.83      0.83         6\n",
      "        Neem       1.00      0.33      0.50         6\n",
      "     unknown       0.00      0.00      0.00         3\n",
      "\n",
      "    accuracy                           0.57        47\n",
      "   macro avg       0.61      0.60      0.54        47\n",
      "weighted avg       0.69      0.57      0.58        47\n",
      "\n"
     ]
    }
   ],
   "source": [
    "svm_model = SVC(kernel='linear', C=1)\n",
    "evaluate_model(\"SVM\", svm_model, X_train, y_train, X_valid, y_valid, X_test, y_test)"
   ]
  },
  {
   "cell_type": "markdown",
   "metadata": {},
   "source": [
    "### 2. Parzen Window (Linear Classifier)"
   ]
  },
  {
   "cell_type": "code",
   "execution_count": 8,
   "metadata": {},
   "outputs": [
    {
     "name": "stdout",
     "output_type": "stream",
     "text": [
      "\n",
      "Training Parzen Windows (Gaussian Naive Bayes) model...\n",
      "\n",
      "Validation Performance of Parzen Windows (Gaussian Naive Bayes):\n",
      "[[3 0 1 0 0 0 0 0 0 0]\n",
      " [2 5 0 0 1 0 0 0 1 0]\n",
      " [0 0 4 0 0 0 0 0 0 0]\n",
      " [0 0 0 3 0 0 0 0 0 0]\n",
      " [0 3 0 0 2 0 0 0 0 0]\n",
      " [0 0 0 0 1 1 0 0 0 0]\n",
      " [3 0 0 1 0 0 1 0 0 0]\n",
      " [4 1 0 0 1 0 0 0 0 0]\n",
      " [0 3 1 2 0 0 0 0 0 0]\n",
      " [1 0 2 0 0 0 0 0 0 0]]\n",
      "              precision    recall  f1-score   support\n",
      "\n",
      "      Ajwain       0.23      0.75      0.35         4\n",
      "      Almond       0.42      0.56      0.48         9\n",
      "      Ashoka       0.50      1.00      0.67         4\n",
      "  Drum_Stick       0.50      1.00      0.67         3\n",
      "    Fittonia       0.40      0.40      0.40         5\n",
      "    Hibiscus       1.00      0.50      0.67         2\n",
      "  Jack Fruit       1.00      0.20      0.33         5\n",
      "       Mango       0.00      0.00      0.00         6\n",
      "        Neem       0.00      0.00      0.00         6\n",
      "     unknown       0.00      0.00      0.00         3\n",
      "\n",
      "    accuracy                           0.40        47\n",
      "   macro avg       0.40      0.44      0.36        47\n",
      "weighted avg       0.37      0.40      0.33        47\n",
      "\n",
      "\n",
      "Test Performance of Parzen Windows (Gaussian Naive Bayes):\n",
      "[[3 0 1 0 0 0 0 0 0 0]\n",
      " [2 5 0 0 1 0 0 0 1 0]\n",
      " [0 0 4 0 0 0 0 0 0 0]\n",
      " [0 0 0 3 0 0 0 0 0 0]\n",
      " [0 3 0 0 2 0 0 0 0 0]\n",
      " [0 0 0 0 1 1 0 0 0 0]\n",
      " [3 0 0 1 0 0 1 0 0 0]\n",
      " [4 1 0 0 1 0 0 0 0 0]\n",
      " [0 3 1 2 0 0 0 0 0 0]\n",
      " [1 0 2 0 0 0 0 0 0 0]]\n",
      "              precision    recall  f1-score   support\n",
      "\n",
      "      Ajwain       0.23      0.75      0.35         4\n",
      "      Almond       0.42      0.56      0.48         9\n",
      "      Ashoka       0.50      1.00      0.67         4\n",
      "  Drum_Stick       0.50      1.00      0.67         3\n",
      "    Fittonia       0.40      0.40      0.40         5\n",
      "    Hibiscus       1.00      0.50      0.67         2\n",
      "  Jack Fruit       1.00      0.20      0.33         5\n",
      "       Mango       0.00      0.00      0.00         6\n",
      "        Neem       0.00      0.00      0.00         6\n",
      "     unknown       0.00      0.00      0.00         3\n",
      "\n",
      "    accuracy                           0.40        47\n",
      "   macro avg       0.40      0.44      0.36        47\n",
      "weighted avg       0.37      0.40      0.33        47\n",
      "\n"
     ]
    },
    {
     "name": "stderr",
     "output_type": "stream",
     "text": [
      "e:\\!VNIT College\\A. Pattern Recognition\\Leaf\\venv\\Lib\\site-packages\\sklearn\\metrics\\_classification.py:1531: UndefinedMetricWarning: Precision is ill-defined and being set to 0.0 in labels with no predicted samples. Use `zero_division` parameter to control this behavior.\n",
      "  _warn_prf(average, modifier, f\"{metric.capitalize()} is\", len(result))\n",
      "e:\\!VNIT College\\A. Pattern Recognition\\Leaf\\venv\\Lib\\site-packages\\sklearn\\metrics\\_classification.py:1531: UndefinedMetricWarning: Precision is ill-defined and being set to 0.0 in labels with no predicted samples. Use `zero_division` parameter to control this behavior.\n",
      "  _warn_prf(average, modifier, f\"{metric.capitalize()} is\", len(result))\n",
      "e:\\!VNIT College\\A. Pattern Recognition\\Leaf\\venv\\Lib\\site-packages\\sklearn\\metrics\\_classification.py:1531: UndefinedMetricWarning: Precision is ill-defined and being set to 0.0 in labels with no predicted samples. Use `zero_division` parameter to control this behavior.\n",
      "  _warn_prf(average, modifier, f\"{metric.capitalize()} is\", len(result))\n",
      "e:\\!VNIT College\\A. Pattern Recognition\\Leaf\\venv\\Lib\\site-packages\\sklearn\\metrics\\_classification.py:1531: UndefinedMetricWarning: Precision is ill-defined and being set to 0.0 in labels with no predicted samples. Use `zero_division` parameter to control this behavior.\n",
      "  _warn_prf(average, modifier, f\"{metric.capitalize()} is\", len(result))\n",
      "e:\\!VNIT College\\A. Pattern Recognition\\Leaf\\venv\\Lib\\site-packages\\sklearn\\metrics\\_classification.py:1531: UndefinedMetricWarning: Precision is ill-defined and being set to 0.0 in labels with no predicted samples. Use `zero_division` parameter to control this behavior.\n",
      "  _warn_prf(average, modifier, f\"{metric.capitalize()} is\", len(result))\n",
      "e:\\!VNIT College\\A. Pattern Recognition\\Leaf\\venv\\Lib\\site-packages\\sklearn\\metrics\\_classification.py:1531: UndefinedMetricWarning: Precision is ill-defined and being set to 0.0 in labels with no predicted samples. Use `zero_division` parameter to control this behavior.\n",
      "  _warn_prf(average, modifier, f\"{metric.capitalize()} is\", len(result))\n"
     ]
    }
   ],
   "source": [
    "from sklearn.naive_bayes import GaussianNB\n",
    "parzen_model = GaussianNB()\n",
    "evaluate_model(\"Parzen Windows (Gaussian Naive Bayes)\", parzen_model, X_train, y_train, X_valid, y_valid, X_test, y_test)\n"
   ]
  },
  {
   "cell_type": "markdown",
   "metadata": {},
   "source": [
    "### 3. k-Nearest Neighbor"
   ]
  },
  {
   "cell_type": "code",
   "execution_count": 9,
   "metadata": {},
   "outputs": [
    {
     "name": "stdout",
     "output_type": "stream",
     "text": [
      "\n",
      "Training KNN model...\n",
      "\n",
      "Validation Performance of KNN:\n",
      "[[3 0 0 0 0 0 0 0 0 1]\n",
      " [1 4 0 0 0 2 1 0 0 1]\n",
      " [0 0 3 0 0 0 0 0 0 1]\n",
      " [0 0 0 3 0 0 0 0 0 0]\n",
      " [0 2 0 0 0 0 0 3 0 0]\n",
      " [2 0 0 0 0 0 0 0 0 0]\n",
      " [0 1 0 0 0 1 2 1 0 0]\n",
      " [1 2 1 0 0 0 0 2 0 0]\n",
      " [0 3 1 0 0 0 0 0 2 0]\n",
      " [2 0 1 0 0 0 0 0 0 0]]\n",
      "              precision    recall  f1-score   support\n",
      "\n",
      "      Ajwain       0.33      0.75      0.46         4\n",
      "      Almond       0.33      0.44      0.38         9\n",
      "      Ashoka       0.50      0.75      0.60         4\n",
      "  Drum_Stick       1.00      1.00      1.00         3\n",
      "    Fittonia       0.00      0.00      0.00         5\n",
      "    Hibiscus       0.00      0.00      0.00         2\n",
      "  Jack Fruit       0.67      0.40      0.50         5\n",
      "       Mango       0.33      0.33      0.33         6\n",
      "        Neem       1.00      0.33      0.50         6\n",
      "     unknown       0.00      0.00      0.00         3\n",
      "\n",
      "    accuracy                           0.40        47\n",
      "   macro avg       0.42      0.40      0.38        47\n",
      "weighted avg       0.44      0.40      0.39        47\n",
      "\n",
      "\n",
      "Test Performance of KNN:\n",
      "[[3 0 0 0 0 0 0 0 0 1]\n",
      " [1 4 0 0 0 2 1 0 0 1]\n",
      " [0 0 3 0 0 0 0 0 0 1]\n",
      " [0 0 0 3 0 0 0 0 0 0]\n",
      " [0 2 0 0 0 0 0 3 0 0]\n",
      " [2 0 0 0 0 0 0 0 0 0]\n",
      " [0 1 0 0 0 1 2 1 0 0]\n",
      " [1 2 1 0 0 0 0 2 0 0]\n",
      " [0 3 1 0 0 0 0 0 2 0]\n",
      " [2 0 1 0 0 0 0 0 0 0]]\n",
      "              precision    recall  f1-score   support\n",
      "\n",
      "      Ajwain       0.33      0.75      0.46         4\n",
      "      Almond       0.33      0.44      0.38         9\n",
      "      Ashoka       0.50      0.75      0.60         4\n",
      "  Drum_Stick       1.00      1.00      1.00         3\n",
      "    Fittonia       0.00      0.00      0.00         5\n",
      "    Hibiscus       0.00      0.00      0.00         2\n",
      "  Jack Fruit       0.67      0.40      0.50         5\n",
      "       Mango       0.33      0.33      0.33         6\n",
      "        Neem       1.00      0.33      0.50         6\n",
      "     unknown       0.00      0.00      0.00         3\n",
      "\n",
      "    accuracy                           0.40        47\n",
      "   macro avg       0.42      0.40      0.38        47\n",
      "weighted avg       0.44      0.40      0.39        47\n",
      "\n"
     ]
    },
    {
     "name": "stderr",
     "output_type": "stream",
     "text": [
      "e:\\!VNIT College\\A. Pattern Recognition\\Leaf\\venv\\Lib\\site-packages\\sklearn\\metrics\\_classification.py:1531: UndefinedMetricWarning: Precision is ill-defined and being set to 0.0 in labels with no predicted samples. Use `zero_division` parameter to control this behavior.\n",
      "  _warn_prf(average, modifier, f\"{metric.capitalize()} is\", len(result))\n",
      "e:\\!VNIT College\\A. Pattern Recognition\\Leaf\\venv\\Lib\\site-packages\\sklearn\\metrics\\_classification.py:1531: UndefinedMetricWarning: Precision is ill-defined and being set to 0.0 in labels with no predicted samples. Use `zero_division` parameter to control this behavior.\n",
      "  _warn_prf(average, modifier, f\"{metric.capitalize()} is\", len(result))\n",
      "e:\\!VNIT College\\A. Pattern Recognition\\Leaf\\venv\\Lib\\site-packages\\sklearn\\metrics\\_classification.py:1531: UndefinedMetricWarning: Precision is ill-defined and being set to 0.0 in labels with no predicted samples. Use `zero_division` parameter to control this behavior.\n",
      "  _warn_prf(average, modifier, f\"{metric.capitalize()} is\", len(result))\n",
      "e:\\!VNIT College\\A. Pattern Recognition\\Leaf\\venv\\Lib\\site-packages\\sklearn\\metrics\\_classification.py:1531: UndefinedMetricWarning: Precision is ill-defined and being set to 0.0 in labels with no predicted samples. Use `zero_division` parameter to control this behavior.\n",
      "  _warn_prf(average, modifier, f\"{metric.capitalize()} is\", len(result))\n",
      "e:\\!VNIT College\\A. Pattern Recognition\\Leaf\\venv\\Lib\\site-packages\\sklearn\\metrics\\_classification.py:1531: UndefinedMetricWarning: Precision is ill-defined and being set to 0.0 in labels with no predicted samples. Use `zero_division` parameter to control this behavior.\n",
      "  _warn_prf(average, modifier, f\"{metric.capitalize()} is\", len(result))\n",
      "e:\\!VNIT College\\A. Pattern Recognition\\Leaf\\venv\\Lib\\site-packages\\sklearn\\metrics\\_classification.py:1531: UndefinedMetricWarning: Precision is ill-defined and being set to 0.0 in labels with no predicted samples. Use `zero_division` parameter to control this behavior.\n",
      "  _warn_prf(average, modifier, f\"{metric.capitalize()} is\", len(result))\n"
     ]
    }
   ],
   "source": [
    "knn_model = KNeighborsClassifier(n_neighbors=5)\n",
    "evaluate_model(\"KNN\", knn_model, X_train, y_train, X_valid, y_valid, X_test, y_test)"
   ]
  },
  {
   "cell_type": "markdown",
   "metadata": {},
   "source": [
    "### 4. Random Forest "
   ]
  },
  {
   "cell_type": "code",
   "execution_count": 10,
   "metadata": {},
   "outputs": [
    {
     "name": "stdout",
     "output_type": "stream",
     "text": [
      "\n",
      "Training Random Forest model...\n",
      "\n",
      "Validation Performance of Random Forest:\n",
      "[[1 0 0 0 0 0 0 0 0 3]\n",
      " [1 5 0 0 0 2 1 0 0 0]\n",
      " [0 0 4 0 0 0 0 0 0 0]\n",
      " [0 0 0 3 0 0 0 0 0 0]\n",
      " [0 1 0 1 1 0 1 1 0 0]\n",
      " [0 0 0 0 0 1 0 1 0 0]\n",
      " [1 0 0 0 1 0 2 1 0 0]\n",
      " [0 2 0 0 1 1 0 2 0 0]\n",
      " [0 3 1 1 0 0 0 0 1 0]\n",
      " [1 0 1 0 0 0 0 1 0 0]]\n",
      "              precision    recall  f1-score   support\n",
      "\n",
      "      Ajwain       0.25      0.25      0.25         4\n",
      "      Almond       0.45      0.56      0.50         9\n",
      "      Ashoka       0.67      1.00      0.80         4\n",
      "  Drum_Stick       0.60      1.00      0.75         3\n",
      "    Fittonia       0.33      0.20      0.25         5\n",
      "    Hibiscus       0.25      0.50      0.33         2\n",
      "  Jack Fruit       0.50      0.40      0.44         5\n",
      "       Mango       0.33      0.33      0.33         6\n",
      "        Neem       1.00      0.17      0.29         6\n",
      "     unknown       0.00      0.00      0.00         3\n",
      "\n",
      "    accuracy                           0.43        47\n",
      "   macro avg       0.44      0.44      0.39        47\n",
      "weighted avg       0.47      0.43      0.40        47\n",
      "\n",
      "\n",
      "Test Performance of Random Forest:\n",
      "[[1 0 0 0 0 0 0 0 0 3]\n",
      " [1 5 0 0 0 2 1 0 0 0]\n",
      " [0 0 4 0 0 0 0 0 0 0]\n",
      " [0 0 0 3 0 0 0 0 0 0]\n",
      " [0 1 0 1 1 0 1 1 0 0]\n",
      " [0 0 0 0 0 1 0 1 0 0]\n",
      " [1 0 0 0 1 0 2 1 0 0]\n",
      " [0 2 0 0 1 1 0 2 0 0]\n",
      " [0 3 1 1 0 0 0 0 1 0]\n",
      " [1 0 1 0 0 0 0 1 0 0]]\n",
      "              precision    recall  f1-score   support\n",
      "\n",
      "      Ajwain       0.25      0.25      0.25         4\n",
      "      Almond       0.45      0.56      0.50         9\n",
      "      Ashoka       0.67      1.00      0.80         4\n",
      "  Drum_Stick       0.60      1.00      0.75         3\n",
      "    Fittonia       0.33      0.20      0.25         5\n",
      "    Hibiscus       0.25      0.50      0.33         2\n",
      "  Jack Fruit       0.50      0.40      0.44         5\n",
      "       Mango       0.33      0.33      0.33         6\n",
      "        Neem       1.00      0.17      0.29         6\n",
      "     unknown       0.00      0.00      0.00         3\n",
      "\n",
      "    accuracy                           0.43        47\n",
      "   macro avg       0.44      0.44      0.39        47\n",
      "weighted avg       0.47      0.43      0.40        47\n",
      "\n"
     ]
    }
   ],
   "source": [
    "rf_model = RandomForestClassifier(n_estimators=100, random_state=42)\n",
    "evaluate_model(\"Random Forest\", rf_model, X_train, y_train, X_valid, y_valid, X_test, y_test)"
   ]
  },
  {
   "cell_type": "code",
   "execution_count": null,
   "metadata": {},
   "outputs": [],
   "source": []
  }
 ],
 "metadata": {
  "kernelspec": {
   "display_name": "venv",
   "language": "python",
   "name": "python3"
  },
  "language_info": {
   "codemirror_mode": {
    "name": "ipython",
    "version": 3
   },
   "file_extension": ".py",
   "mimetype": "text/x-python",
   "name": "python",
   "nbconvert_exporter": "python",
   "pygments_lexer": "ipython3",
   "version": "3.13.0"
  }
 },
 "nbformat": 4,
 "nbformat_minor": 2
}
